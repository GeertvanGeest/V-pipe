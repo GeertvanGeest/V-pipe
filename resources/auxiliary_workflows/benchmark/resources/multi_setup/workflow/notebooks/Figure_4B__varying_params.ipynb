{
 "cells": [
  {
   "cell_type": "code",
   "execution_count": null,
   "id": "8203e8e7",
   "metadata": {},
   "outputs": [],
   "source": [
    "import pandas as pd\n",
    "import seaborn as sns\n",
    "from matplotlib.ticker import FuncFormatter\n",
    "import humanize\n",
    "import matplotlib.pyplot as plt\n",
    "import numpy as np\n",
    "\n",
    "from helpers import *\n",
    "\n",
    "\n",
    "@FuncFormatter\n",
    "def duration_fmt(x, pos):\n",
    "    return humanize.precisedelta(x, minimum_unit=\"minutes\", format=\"%0.0f\")"
   ]
  },
  {
   "cell_type": "markdown",
   "id": "02631df2",
   "metadata": {},
   "source": [
    "### plot precision and recall"
   ]
  },
  {
   "cell_type": "code",
   "execution_count": 26,
   "id": "032ebf70",
   "metadata": {},
   "outputs": [],
   "source": [
    "fname_pr_results = \"../../results/distance_varyparams/performance_measures/global/csv_files/pr_results.csv\"\n",
    "fname_mds = \"../../results/distance_varyparams/performance_measures/global/mds_results_subset.csv.gz\""
   ]
  },
  {
   "cell_type": "code",
   "execution_count": 27,
   "id": "e9ad438e",
   "metadata": {},
   "outputs": [],
   "source": [
    "df = pd.read_csv(fname_pr_results)\n",
    "df_mds = pd.read_csv(fname_mds)"
   ]
  },
  {
   "cell_type": "code",
   "execution_count": null,
   "id": "ca55bc51",
   "metadata": {},
   "outputs": [],
   "source": [
    "df.loc[:, \"haplos\"] = df[\"params\"].str.split(\"~\").str[7].str.split(\"\\n\").str[0]\n",
    "df_mds.loc[:, \"haplos\"] = df_mds[\"params\"].str.split(\"~\").str[7].str.split(\"\\n\").str[0]\n",
    "\n",
    "\n",
    "def f_haplo2population(row):\n",
    "    if row[\"haplos\"] == \"10@20@200@50@20@geom@0.75\":\n",
    "        return \"Population 3\"\n",
    "    if row[\"haplos\"] == \"10@20@400@100@100@geom@0.75\":\n",
    "        return \"Population 4\"\n",
    "    if row[\"haplos\"] == \"5@50@200@50@20@geom@0.75\":\n",
    "        return \"Population 5\"\n",
    "    if row[\"haplos\"] == \"5@5@200@50@20@geom@0.75\":\n",
    "        return \"Population 1\"\n",
    "    if row[\"haplos\"] == \"5@50@400@100@100@geom@0.75\":\n",
    "        return \"Population 6\"\n",
    "    if row[\"haplos\"] == \"5@5@400@100@100@geom@0.75\":\n",
    "        return \"Population 2\"\n",
    "\n",
    "\n",
    "df.loc[:, \"population\"] = df.apply(f_haplo2population, axis=1)\n",
    "df_mds.loc[:, \"population\"] = df_mds.apply(f_haplo2population, axis=1)"
   ]
  },
  {
   "cell_type": "code",
   "execution_count": null,
   "id": "e0213927",
   "metadata": {},
   "outputs": [],
   "source": [
    "df[\"Method\"] = df.apply(f_method_name, axis=1)\n",
    "df_mds[\"Method\"] = df_mds.apply(f_method_name, axis=1)"
   ]
  },
  {
   "cell_type": "code",
   "execution_count": null,
   "id": "8542060a",
   "metadata": {},
   "outputs": [],
   "source": [
    "# transform dataframe in right format\n",
    "df = pd.melt(\n",
    "    df,\n",
    "    id_vars=[\"params\", \"replicate\", \"method\", \"Method\", \"population\"],\n",
    "    value_vars=[\"precision\", \"recall\"],\n",
    "    var_name=\"measure\",\n",
    "    value_name=\"value\",\n",
    "    ignore_index=True,\n",
    ")"
   ]
  },
  {
   "cell_type": "code",
   "execution_count": null,
   "id": "93d520a6",
   "metadata": {},
   "outputs": [],
   "source": [
    "order_population = [\n",
    "    \"Population 1\",\n",
    "    \"Population 2\",\n",
    "    \"Population 3\",\n",
    "    \"Population 4\",\n",
    "    \"Population 5\",\n",
    "    \"Population 6\",\n",
    "]"
   ]
  },
  {
   "cell_type": "code",
   "execution_count": null,
   "id": "9e1c5328",
   "metadata": {},
   "outputs": [],
   "source": [
    "def f_freq_bins(x):\n",
    "    if x > 0.2:\n",
    "        return 0.3\n",
    "    elif x > 0.1:\n",
    "        return 0.2\n",
    "    elif x > 0.05:\n",
    "        return 0.1\n",
    "    elif x > 0.01:\n",
    "        return 0.05\n",
    "    elif x <= 0.01:\n",
    "        return 0.01\n",
    "\n",
    "\n",
    "df_mds[\"Frequency\"] = df_mds[\"frequency\"].apply(f_freq_bins)"
   ]
  },
  {
   "cell_type": "code",
   "execution_count": null,
   "id": "d64833dc",
   "metadata": {},
   "outputs": [],
   "source": [
    "replicate_id = 0\n",
    "df_mds_plot = df_mds[(df_mds[\"replicate\"] == replicate_id)]"
   ]
  },
  {
   "cell_type": "code",
   "execution_count": null,
   "id": "0ce35017",
   "metadata": {},
   "outputs": [],
   "source": [
    "cm = 1 / 2.54  # centimeters in inches\n",
    "fig, ax = plt.subplots(6, 2)\n",
    "\n",
    "fig.set_figheight(18)\n",
    "fig.set_figwidth(10.5)\n",
    "\n",
    "\n",
    "order_mds = [\"ground truth\", \"PredictHaplo\", \"CliqueSNV\"]\n",
    "\n",
    "for row_id, population in enumerate(order_population):\n",
    "    dt_t = df_mds_plot[df_mds_plot[\"population\"] == population]\n",
    "    sns.scatterplot(\n",
    "        data=dt_t.sort_values(\"Method\", key=np.vectorize(order_mds.index)),\n",
    "        x=\"MDS1\",\n",
    "        y=\"MDS0\",\n",
    "        size=\"Frequency\",\n",
    "        hue=\"Method\",\n",
    "        hue_order=order_mds,\n",
    "        style_order=order_mds,\n",
    "        style=\"Method\",\n",
    "        sizes=(100, 300),\n",
    "        palette=method_palette,\n",
    "        alpha=0.5,\n",
    "        legend=True,\n",
    "        ax=ax[row_id][0],\n",
    "    )\n",
    "\n",
    "    ax[row_id][0].set_xticklabels(\"\")\n",
    "    ax[row_id][0].set_yticklabels(\"\")\n",
    "    ax[row_id][0].set_xlabel(\"\")\n",
    "    ax[row_id][0].set_ylabel(population, fontsize=20)\n",
    "\n",
    "    dt_t = df[df[\"population\"] == population]\n",
    "    sns.boxplot(\n",
    "        data=dt_t,\n",
    "        x=\"measure\",\n",
    "        y=\"value\",\n",
    "        hue=\"Method\",\n",
    "        hue_order=method_order,\n",
    "        palette=method_palette,\n",
    "        width=0.8,\n",
    "        linewidth=0.5,\n",
    "        ax=ax[row_id][1],\n",
    "    )\n",
    "    sns.stripplot(\n",
    "        data=dt_t,\n",
    "        x=\"measure\",\n",
    "        y=\"value\",\n",
    "        hue=\"Method\",\n",
    "        hue_order=method_order,\n",
    "        palette=method_palette,\n",
    "        dodge=True,\n",
    "        # clip_on=False,\n",
    "        linewidth=0.8,\n",
    "        edgecolor=\"gray\",\n",
    "        ax=ax[row_id][1],\n",
    "    )\n",
    "\n",
    "    ax[row_id][1].set_ylim(-0.02, 1.02)\n",
    "    ax[row_id][1].set_ylabel(\"\")\n",
    "\n",
    "    # ax[row_id][1].get_legend().remove()\n",
    "\n",
    "\n",
    "fig.tight_layout()"
   ]
  },
  {
   "cell_type": "code",
   "execution_count": null,
   "id": "4c2a7d48",
   "metadata": {},
   "outputs": [],
   "source": [
    "fig.savefig(\"./figures/Figure_4B_varyparams.svg\")"
   ]
  },
  {
   "cell_type": "code",
   "execution_count": null,
   "id": "4556e26c",
   "metadata": {},
   "outputs": [],
   "source": []
  },
  {
   "cell_type": "code",
   "execution_count": null,
   "id": "8f8a19d5",
   "metadata": {},
   "outputs": [],
   "source": []
  }
 ],
 "metadata": {
  "kernelspec": {
   "display_name": "Python 3 (ipykernel)",
   "language": "python",
   "name": "python3"
  },
  "language_info": {
   "codemirror_mode": {
    "name": "ipython",
    "version": 3
   },
   "file_extension": ".py",
   "mimetype": "text/x-python",
   "name": "python",
   "nbconvert_exporter": "python",
   "pygments_lexer": "ipython3",
   "version": "3.9.0"
  }
 },
 "nbformat": 4,
 "nbformat_minor": 5
}
