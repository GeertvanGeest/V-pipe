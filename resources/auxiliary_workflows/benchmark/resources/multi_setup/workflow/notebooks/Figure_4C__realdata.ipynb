{
 "cells": [
  {
   "cell_type": "code",
   "execution_count": 36,
   "id": "5eead0d5",
   "metadata": {},
   "outputs": [],
   "source": [
    "import pandas as pd\n",
    "import seaborn as sns\n",
    "from matplotlib.ticker import FuncFormatter\n",
    "import humanize\n",
    "import matplotlib.pyplot as plt\n",
    "import numpy as np\n",
    "\n",
    "from helpers import *\n",
    "\n",
    "@FuncFormatter\n",
    "def duration_fmt(x, pos):\n",
    "    return humanize.precisedelta(x, minimum_unit='minutes',format='%0.0f')\n"
   ]
  },
  {
   "cell_type": "code",
   "execution_count": 37,
   "id": "17cb4d92",
   "metadata": {},
   "outputs": [],
   "source": [
    "method_order = [\"CliqueSNV\", \"HaploConduct\", \"PredictHaplo\"]"
   ]
  },
  {
   "cell_type": "markdown",
   "id": "137dbd50",
   "metadata": {},
   "source": [
    "### precision and recall plots"
   ]
  },
  {
   "cell_type": "code",
   "execution_count": 38,
   "id": "14329570",
   "metadata": {},
   "outputs": [],
   "source": [
    "fname_pr_results = \"../../results/realdata/performance_measures/global/csv_files/pr_results.csv\"\n",
    "    \n",
    "df = pd.read_csv(fname_pr_results)\n",
    "df.loc[:,'subsampling_prop'] = df['params'].str.split('5-virus-mix@').str[1].str.split('__').str[0]\n",
    "df['Method'] = df.apply(f_method_name, axis=1)\n",
    "df = df[df['subsampling_prop']=='1']\n",
    "\n",
    "# compute f1 score\n",
    "df[\"f1\"] = 2 * (df[\"precision\"] * df[\"recall\"]) / (df[\"precision\"] + df[\"recall\"]) \n",
    "df[\"f1\"] = df[\"f1\"].fillna(0)\n",
    "\n",
    "# transform dataframe in right format\n",
    "df = pd.melt(df, \n",
    "            id_vars=[\"params\", \"replicate\", \"method\", \"Method\"], \n",
    "            value_vars= [\"precision\", \"recall\", \"f1\"], \n",
    "            var_name=\"measure\", \n",
    "            value_name=\"value\", \n",
    "            ignore_index=True)"
   ]
  },
  {
   "cell_type": "code",
   "execution_count": 39,
   "id": "81c9d0db",
   "metadata": {},
   "outputs": [
    {
     "data": {
      "image/png": "[encoded data removed]",
      "text/plain": [
       "<Figure size 432x288 with 1 Axes>"
      ]
     },
     "metadata": {
      "needs_background": "light"
     },
     "output_type": "display_data"
    }
   ],
   "source": [
    "fig, ax = plt.subplots()\n",
    "\n",
    "\n",
    "sns.boxplot(\n",
    "        data=df,\n",
    "        x=\"measure\",\n",
    "        y=\"value\",\n",
    "        hue=\"Method\",\n",
    "        hue_order= method_order,\n",
    "        palette=method_palette,\n",
    "        width=0.8,\n",
    "        linewidth=0.5,\n",
    "        ax=ax\n",
    "    )\n",
    "sns.stripplot(\n",
    "    data=df,\n",
    "    x=\"measure\",\n",
    "    y=\"value\",\n",
    "    hue=\"Method\", \n",
    "    hue_order= method_order,  \n",
    "    palette=method_palette,  \n",
    "    dodge=True,\n",
    "    #clip_on=False,\n",
    "    linewidth=0.8,\n",
    "    edgecolor=\"gray\",\n",
    "    ax=ax,\n",
    ")\n",
    "\n",
    "ax.set_ylim(-0.01, 1.02)\n",
    "\n",
    "fig.savefig(\"./figures/Figure_4C_realdata.svg\")"
   ]
  },
  {
   "cell_type": "markdown",
   "id": "8a90f05b",
   "metadata": {},
   "source": [
    "### plot N50"
   ]
  },
  {
   "cell_type": "code",
   "execution_count": 40,
   "id": "4a7f4c90",
   "metadata": {},
   "outputs": [],
   "source": [
    "fname_n50  = \"../../results/realdata/performance_measures/global/csv_files/quast_results.csv\"\n",
    "\n",
    "df_n50 = pd.read_csv(fname_n50)\n",
    "df_n50.loc[:,'subsampling_prop'] = df_n50['params'].str.split('5-virus-mix@').str[1].str.split('__').str[0]\n",
    "df_n50['Method'] = df_n50.apply(f_method_name, axis=1)\n",
    "df_n50 = df_n50[df_n50['subsampling_prop']=='1']"
   ]
  },
  {
   "cell_type": "code",
   "execution_count": 43,
   "id": "532f8883",
   "metadata": {},
   "outputs": [
    {
     "data": {
      "image/png": "[encoded data removed]",
      "text/plain": [
       "<Figure size 144x288 with 1 Axes>"
      ]
     },
     "metadata": {
      "needs_background": "light"
     },
     "output_type": "display_data"
    }
   ],
   "source": [
    "fig, ax = plt.subplots()\n",
    "fig.set_figwidth(2)\n",
    "\n",
    "sns.boxplot(data=df_n50, \n",
    "            x=\"subsampling_prop\", \n",
    "            y=\"N50\", \n",
    "            hue=\"Method\", \n",
    "            hue_order= method_order,  \n",
    "            palette=method_palette,  \n",
    "            ax=ax)\n",
    "\n",
    "sns.stripplot(\n",
    "    data=df_n50,\n",
    "    x=\"subsampling_prop\",\n",
    "    y=\"N50\",\n",
    "    hue=\"Method\",\n",
    "    hue_order= method_order,  \n",
    "    palette=method_palette,  \n",
    "    dodge=True,\n",
    "    clip_on=False,\n",
    "    linewidth=0.8,\n",
    "    edgecolor=\"gray\",\n",
    "    ax=ax,\n",
    ")\n",
    "\n",
    "ax.set_xticklabels(\n",
    "    ax.get_xticklabels(), rotation=45, ha=\"right\", rotation_mode=\"anchor\"\n",
    ")\n",
    "\n",
    "\n",
    "fig.tight_layout()\n",
    "fig.savefig(\"./figures/Figure_4C_realdata_n50.svg\")"
   ]
  },
  {
   "cell_type": "code",
   "execution_count": null,
   "id": "723be9f4",
   "metadata": {},
   "outputs": [],
   "source": []
  }
 ],
 "metadata": {
  "kernelspec": {
   "display_name": "Python 3 (ipykernel)",
   "language": "python",
   "name": "python3"
  },
  "language_info": {
   "codemirror_mode": {
    "name": "ipython",
    "version": 3
   },
   "file_extension": ".py",
   "mimetype": "text/x-python",
   "name": "python",
   "nbconvert_exporter": "python",
   "pygments_lexer": "ipython3",
   "version": "3.9.0"
  }
 },
 "nbformat": 4,
 "nbformat_minor": 5
}
